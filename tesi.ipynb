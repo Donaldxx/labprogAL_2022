{
  "nbformat": 4,
  "nbformat_minor": 0,
  "metadata": {
    "colab": {
      "provenance": [],
      "authorship_tag": "ABX9TyOO/OfdTjUG4gKdX5briigz",
      "include_colab_link": true
    },
    "kernelspec": {
      "name": "python3",
      "display_name": "Python 3"
    },
    "language_info": {
      "name": "python"
    }
  },
  "cells": [
    {
      "cell_type": "markdown",
      "metadata": {
        "id": "view-in-github",
        "colab_type": "text"
      },
      "source": [
        "<a href=\"https://colab.research.google.com/github/Donaldxx/labprogAL_2022/blob/master/tesi.ipynb\" target=\"_parent\"><img src=\"https://colab.research.google.com/assets/colab-badge.svg\" alt=\"Open In Colab\"/></a>"
      ]
    },
    {
      "cell_type": "markdown",
      "source": [
        "* Fisso watermark\n",
        "* Alleno foresta di alberi che classificano correttamente\n",
        "* Prendo insieme di istanze correttamente classificate da tutti gli alberi\n",
        "* Flippo la label per queste istanze\n",
        "*   Creo degli alberi adetti a misclassificare le istanze con label flippata\n",
        "*   Creo ensemble degli alberi ottenuti"
      ],
      "metadata": {
        "id": "-r6sjcb2bNZ_"
      }
    },
    {
      "cell_type": "code",
      "execution_count": 1,
      "metadata": {
        "id": "M8w9e_XY4-td"
      },
      "outputs": [],
      "source": [
        "%matplotlib inline\n",
        "\n",
        "import pandas as pd\n",
        "import numpy as np\n",
        "import matplotlib.pyplot as plt"
      ]
    },
    {
      "cell_type": "code",
      "source": [
        "from sklearn.metrics import accuracy_score\n",
        "from sklearn.model_selection import train_test_split\n",
        "from sklearn.datasets import load_breast_cancer\n",
        "\n",
        "RANDOM_STATE = 40\n",
        "\n",
        "#Dataset realistico\n",
        "X, y = load_breast_cancer(return_X_y=True)\n",
        "X_train, X_test, y_train, y_test = train_test_split(X, y, test_size=0.33, random_state=42)"
      ],
      "metadata": {
        "id": "i2YTiZFDMJIZ"
      },
      "execution_count": 2,
      "outputs": []
    },
    {
      "cell_type": "code",
      "source": [
        "from sklearn.ensemble import RandomForestClassifier\n",
        "from sklearn.metrics import accuracy_score\n",
        "\n",
        "n_trees = 10 #numero di alberi complessivi dell'ensemble finale\n",
        "rf = RandomForestClassifier(n_estimators=n_trees, random_state = RANDOM_STATE) #numero di alberi equivalente al numero di 0 nel wm e pongo limite sulla profondità\n",
        "rf.fit(X_train,y_train)\n",
        "train_acc = accuracy_score(y_true = y_train, y_pred = rf.predict(X_train))\n",
        "test_acc  = accuracy_score(y_true = y_test,  y_pred = rf.predict(X_test))\n",
        "\n",
        "estimators = rf.estimators_ #estrazione singoli alberi\n",
        "#max_leaves = 0\n",
        "max_depth = 0\n",
        "for t in estimators:\n",
        "    #leaves = t.get_n_leaves()\n",
        "    depth = t.get_depth()\n",
        "    #if max_leaves < leaves:\n",
        "    #    max_leaves = leaves\n",
        "    if max_depth < depth:\n",
        "        max_depth = depth\n",
        "\n",
        "print(max_depth)"
      ],
      "metadata": {
        "colab": {
          "base_uri": "https://localhost:8080/"
        },
        "id": "kdCCUsY6qCj1",
        "outputId": "7d944d19-fb44-4e1b-c7c9-7220f2bd007f"
      },
      "execution_count": 3,
      "outputs": [
        {
          "output_type": "stream",
          "name": "stdout",
          "text": [
            "9\n"
          ]
        }
      ]
    },
    {
      "cell_type": "markdown",
      "source": [
        "Fisso watermark"
      ],
      "metadata": {
        "id": "35QKmcCJTSmZ"
      }
    },
    {
      "cell_type": "code",
      "source": [
        "#Genero casualmente il watermark, attualmente limitando il numero di 1 affinché siano inferiori ai 0, così da prevenire possibili riduzioni di accuratezza complessiva del modello (majority voting).\n",
        "#Il watermark è una stringa che indica  quali istanze di un insieme di trigger creato vengono erroneamente classificate da determinati alberi se il bit corrispondente è 1, 0 altrimenti.\n",
        "n_trees = 10 #numero di alberi complessivi dell'ensemble finale\n",
        "\n",
        "watermark =  np.random.randint(2, size=n_trees)\n",
        "ones = (watermark == 1).sum()\n",
        "zeros = (watermark == 0).sum()\n",
        "while(ones >= zeros or ones < 0.3*n_trees):\n",
        "    watermark =  np.random.randint(2, size=n_trees)\n",
        "    ones = (watermark == 1).sum()\n",
        "    zeros = (watermark == 0).sum()\n",
        "\n",
        "#watermark = [0, 0, 1, 0, 0, 0, 1, 1, 0, 0] #fissato per vedere\n",
        "print(watermark)"
      ],
      "metadata": {
        "colab": {
          "base_uri": "https://localhost:8080/"
        },
        "id": "ZgjHEUHCMiO4",
        "outputId": "71e6414d-885f-45d5-c956-f952552f4d96"
      },
      "execution_count": 4,
      "outputs": [
        {
          "output_type": "stream",
          "name": "stdout",
          "text": [
            "[0 0 0 0 1 1 0 0 1 1]\n"
          ]
        }
      ]
    },
    {
      "cell_type": "markdown",
      "source": [
        "Training foresta di alberi che classificano correttamente"
      ],
      "metadata": {
        "id": "gL4eNxALTo-D"
      }
    },
    {
      "cell_type": "code",
      "source": [
        "#Alleno foresta\n",
        "rf = RandomForestClassifier(n_estimators=zeros, max_depth = max_depth, random_state = RANDOM_STATE, bootstrap = False) #numero di alberi equivalente al numero di 0 nel wm e pongo limite sulla profondità\n",
        "rf.fit(X_train,y_train)\n",
        "train_acc = accuracy_score(y_true = y_train, y_pred = rf.predict(X_train))\n",
        "test_acc  = accuracy_score(y_true = y_test,  y_pred = rf.predict(X_test))\n",
        "print (\"Train Accuracy: {:.3f} - Test Accuracy: {:.3f}\".format(train_acc,test_acc))"
      ],
      "metadata": {
        "colab": {
          "base_uri": "https://localhost:8080/"
        },
        "id": "-Q9TkTluMWag",
        "outputId": "1dc59fc1-a3d6-4612-9909-31492a5cb690"
      },
      "execution_count": 5,
      "outputs": [
        {
          "output_type": "stream",
          "name": "stdout",
          "text": [
            "Train Accuracy: 1.000 - Test Accuracy: 0.957\n"
          ]
        }
      ]
    },
    {
      "cell_type": "code",
      "source": [
        "estimators = rf.estimators_ #estrazione singoli alberi dalla random forest"
      ],
      "metadata": {
        "id": "ngH4j_OvNxtw"
      },
      "execution_count": 6,
      "outputs": []
    },
    {
      "cell_type": "markdown",
      "source": [
        "Estrazione di insieme di istanze dal training set tale che ∀ 𝑑 ∈ 𝐷 (training set) 𝑑 viene classificata correttamente da tutti gli alberi della random forest allenata"
      ],
      "metadata": {
        "id": "QKl7WhhCT5ob"
      }
    },
    {
      "cell_type": "code",
      "source": [
        "import random\n",
        "import copy\n",
        "\n",
        "#Seleziono le istanze correttamente classificate da ciascun albero nella foresta, garantendo così che\n",
        "#l'accuratezza per l'insieme di trigger sugli alberi che devono effettuare corrette classificazioni sia 1.\n",
        "correct_instances = []\n",
        "num = 0\n",
        "for i, x in enumerate(X_train):\n",
        "    for t in estimators:\n",
        "        if t.predict((np.array([x,]))) == y[i]:\n",
        "            num = num+1\n",
        "    if num == len(estimators):\n",
        "        correct_instances.append(x)\n",
        "    num = 0\n",
        "\n",
        "perc = 0.20*len(X_train) / len(correct_instances)  #prendo un numero di istanze di trigger che ha dimensione 20% della dimensione training set (dimensione scelta arbitrariamente)\n",
        "random.seed(RANDOM_STATE)\n",
        "sample = random.sample(correct_instances, int(perc*len(correct_instances)))"
      ],
      "metadata": {
        "id": "OFfAndsqOVxt"
      },
      "execution_count": 7,
      "outputs": []
    },
    {
      "cell_type": "markdown",
      "source": [
        "Preparo le labels per le istanze in sample, flippo le labels relative a queste istanze cosi da effettuare il training della seconda foresta"
      ],
      "metadata": {
        "id": "_E8IEsA-VGl7"
      }
    },
    {
      "cell_type": "code",
      "source": [
        "#Flippo labels relative alle istanze selezionate come istanze di trigger\n",
        "#labels del train set con quelle da missclassificare flippate\n",
        "labels_switched = [] #conterrà le labels normali delle istanze di training e labels flippate quelle relative alle istanze in sample (effettuerò training della seconda foresta con questo)\n",
        "for i, x_i in enumerate(X_train):\n",
        "    labels_switched.append(y_train[i])\n",
        "    for j, instance in enumerate(sample):\n",
        "        if np.array_equal(x_i, instance):\n",
        "            if(y[i] == 1): labels_switched[i] = 0\n",
        "            else: labels_switched[i] = 1\n",
        "\n",
        "#trovo le labels corrispondenti esclusivamente alle istanze in sample (serve a controllare watermark accuracy in futuro)\n",
        "labels = []\n",
        "for instance in sample:\n",
        "    for i, x_i in enumerate(X):\n",
        "        if np.array_equal(x_i, instance):\n",
        "            labels.append(y[i])\n",
        "\n",
        "#flip esclusivamente delle labels relative alle istanze in sample\n",
        "labels_s = copy.deepcopy(labels)\n",
        "for i in range(len(labels_s)):\n",
        "    if labels_s[i] == 1:\n",
        "        labels_s[i] = 0\n",
        "    else:\n",
        "      labels_s[i] = 1"
      ],
      "metadata": {
        "id": "t2l8jWUgO5ex"
      },
      "execution_count": 8,
      "outputs": []
    },
    {
      "cell_type": "code",
      "source": [
        "#Alleno foresta adetta a misclassification\n",
        "peso = 2\n",
        "cond = 0\n",
        "trigger_estimators = []\n",
        "while cond != 1: #(cambiare criterio peso in base a dimensione dataset)\n",
        "    weights = [] #pesi per sample weight\n",
        "    new_arr = [] #conterrà le accuracy relative al wm (se sono tutte 0 allora ho certezza)\n",
        "    for i, x_i in enumerate(X_train):\n",
        "        weights.append(1)\n",
        "        for s in sample:\n",
        "            if np.array_equal(x_i, s):\n",
        "                weights[i] = peso\n",
        "\n",
        "    trigger_rf = RandomForestClassifier(n_estimators=ones, max_depth = max_depth, random_state = RANDOM_STATE, bootstrap = False)\n",
        "    trigger_rf.fit(X_train, labels_switched, sample_weight = weights)\n",
        "    train_acc = accuracy_score(y_true = y_train, y_pred = trigger_rf.predict(X_train))\n",
        "    test_acc  = accuracy_score(y_true = y_test,  y_pred = trigger_rf.predict(X_test))\n",
        "    watermark_acc = accuracy_score(y_true = labels,  y_pred = trigger_rf.predict(sample))\n",
        "    new_arr.append(watermark_acc)\n",
        "\n",
        "    tot = 0\n",
        "    num = 0\n",
        "    for i, s in enumerate(sample):\n",
        "        for t in trigger_rf.estimators_:\n",
        "            if t.predict((np.array([s,]))) != labels[i]:\n",
        "                num = num+1\n",
        "        if num == len(trigger_rf.estimators_):\n",
        "           tot = tot + 1\n",
        "        num = 0\n",
        "\n",
        "    if (cond < tot/len(sample)):\n",
        "        cond = tot/len(sample)\n",
        "        trigger_estimators = []\n",
        "        for t in trigger_rf.estimators_:\n",
        "            trigger_estimators.append(t)\n",
        "\n",
        "    peso = peso + 1"
      ],
      "metadata": {
        "id": "VdW63M38USPh"
      },
      "execution_count": 9,
      "outputs": []
    },
    {
      "cell_type": "code",
      "source": [
        "print(peso)"
      ],
      "metadata": {
        "colab": {
          "base_uri": "https://localhost:8080/"
        },
        "id": "OhCkwTLFqwOu",
        "outputId": "4fb341b3-ed2a-4377-8ab3-203e089205f8"
      },
      "execution_count": 10,
      "outputs": [
        {
          "output_type": "stream",
          "name": "stdout",
          "text": [
            "7\n"
          ]
        }
      ]
    },
    {
      "cell_type": "markdown",
      "source": [
        "Creazione ensemble"
      ],
      "metadata": {
        "id": "2yqoce-fVdpc"
      }
    },
    {
      "cell_type": "code",
      "source": [
        "#Creazione ensemble\n",
        "#Quando il bit nel watermark è 1 aggiungo all'ensemble un albero della foresta allenata sui dati con le etichette delle istanze di trigger invertite.\n",
        "#Quando il bit è 0 aggiungo all'ensemble un albero della foresta allenata normalmente\n",
        "ensemble = []\n",
        "i = 0\n",
        "j = 0\n",
        "for digit in watermark:\n",
        "    if digit == 1:\n",
        "        ensemble.append(trigger_estimators[j])\n",
        "        j = j+1\n",
        "    else:\n",
        "        ensemble.append(estimators[i])\n",
        "        i = i+1"
      ],
      "metadata": {
        "id": "xz7ekfJ6ZQ6g"
      },
      "execution_count": 11,
      "outputs": []
    },
    {
      "cell_type": "markdown",
      "source": [
        "Controllo l'accuracy sul trigger set per i singoli alberi"
      ],
      "metadata": {
        "id": "BDBYrXKpWWGX"
      }
    },
    {
      "cell_type": "code",
      "source": [
        "#Valutazione watermark accuarcy per singolo albero\n",
        "for t in ensemble:\n",
        "    acc1  = accuracy_score(y_true = labels,  y_pred = t.predict(sample))\n",
        "    print (\"Trigger Accuracy: {:.3f}\".format(acc1))\n",
        "#Per come abbiamo selezionato le istanze di trigger gli alberi che le devono classificare correttamente le classificano tutte correttamente (accuracy 1),\n",
        "#gli alberi relativi a missclassification del trigger set invece presentano incertezza (soluzione prendere il sottoinsieme di queste istanze che esibiscono il comportamento che vogliamo)"
      ],
      "metadata": {
        "colab": {
          "base_uri": "https://localhost:8080/"
        },
        "id": "QAGhXvptawLt",
        "outputId": "2a0e5d1b-3d05-42fb-e5a0-7c6320c024c4"
      },
      "execution_count": 12,
      "outputs": [
        {
          "output_type": "stream",
          "name": "stdout",
          "text": [
            "Trigger Accuracy: 1.000\n",
            "Trigger Accuracy: 1.000\n",
            "Trigger Accuracy: 1.000\n",
            "Trigger Accuracy: 1.000\n",
            "Trigger Accuracy: 0.000\n",
            "Trigger Accuracy: 0.000\n",
            "Trigger Accuracy: 1.000\n",
            "Trigger Accuracy: 1.000\n",
            "Trigger Accuracy: 0.000\n",
            "Trigger Accuracy: 0.000\n"
          ]
        }
      ]
    },
    {
      "cell_type": "markdown",
      "source": [
        "Valutazione percentuale di istanze correttamente misclassificate da tutti gli alberi della random forest allenata su istanze con labels flippate per istanze di trigger"
      ],
      "metadata": {
        "id": "XvzL6X2GW9kW"
      }
    },
    {
      "cell_type": "code",
      "source": [
        "tot = 0\n",
        "for i, s in enumerate(sample):\n",
        "    for t in trigger_estimators:\n",
        "        if t.predict((np.array([s,]))) != labels[i]:\n",
        "            num = num+1\n",
        "    if num == len(trigger_estimators):\n",
        "        tot = tot + 1\n",
        "    num = 0\n",
        "\n",
        "print(\"Percentuale di istanze trigger correttamente missclassificate: {:.3f}\".format(tot/len(sample)))"
      ],
      "metadata": {
        "colab": {
          "base_uri": "https://localhost:8080/"
        },
        "id": "alk-5oiHgcJD",
        "outputId": "57ebabb6-3641-4221-9b2d-436a7b9ba91d"
      },
      "execution_count": 13,
      "outputs": [
        {
          "output_type": "stream",
          "name": "stdout",
          "text": [
            "Percentuale di istanze trigger correttamente missclassificate: 1.000\n"
          ]
        }
      ]
    },
    {
      "cell_type": "code",
      "source": [
        "print(len(sample))"
      ],
      "metadata": {
        "colab": {
          "base_uri": "https://localhost:8080/"
        },
        "id": "v68GQzLzinoI",
        "outputId": "c53e24c8-1d77-4960-a86f-51c25a81734d"
      },
      "execution_count": 14,
      "outputs": [
        {
          "output_type": "stream",
          "name": "stdout",
          "text": [
            "76\n"
          ]
        }
      ]
    },
    {
      "cell_type": "code",
      "source": [
        "#Controllo parametri ensemble\n",
        "#Emerge che alberi allenati per missclassificatr hanno numero di foglie molto più elevato a parità di parametro di profondità massimo impostato\n",
        "for t in ensemble:\n",
        "    print(\"Num Foglie: {}\".format(t.get_n_leaves()))\n",
        "    print(\"Depth: {}\".format(t.get_depth()))"
      ],
      "metadata": {
        "colab": {
          "base_uri": "https://localhost:8080/"
        },
        "id": "IfUWnjyUP9qx",
        "outputId": "c0bdda92-42ae-4941-85cc-cb85c2eff9a4"
      },
      "execution_count": 15,
      "outputs": [
        {
          "output_type": "stream",
          "name": "stdout",
          "text": [
            "Num Foglie: 22\n",
            "Depth: 9\n",
            "Num Foglie: 23\n",
            "Depth: 8\n",
            "Num Foglie: 24\n",
            "Depth: 8\n",
            "Num Foglie: 24\n",
            "Depth: 9\n",
            "Num Foglie: 51\n",
            "Depth: 9\n",
            "Num Foglie: 45\n",
            "Depth: 9\n",
            "Num Foglie: 27\n",
            "Depth: 9\n",
            "Num Foglie: 25\n",
            "Depth: 9\n",
            "Num Foglie: 55\n",
            "Depth: 9\n",
            "Num Foglie: 39\n",
            "Depth: 9\n"
          ]
        }
      ]
    },
    {
      "cell_type": "markdown",
      "source": [
        "Valutazione delle performance del modello"
      ],
      "metadata": {
        "id": "6vpeFW8GXyhr"
      }
    },
    {
      "cell_type": "code",
      "source": [
        "#creo array per le prediction\n",
        "arr = []\n",
        "for t in ensemble:\n",
        "    arr.append(t.predict(X_test))\n",
        "\n",
        "#effettuo majority voting in modo manuale (nel caso di più label creo array con una posizione per label)\n",
        "ones = 0\n",
        "zeros = 0\n",
        "pred = []\n",
        "for j in range(len(arr[0])):\n",
        "    for i in range(len(arr)):\n",
        "        if(arr[i][j] == 1):\n",
        "            ones = ones+1\n",
        "        else:\n",
        "            zeros = zeros+1\n",
        "    if(ones > zeros):\n",
        "        pred.append(1)\n",
        "    else:\n",
        "        pred.append(0)\n",
        "    ones = 0\n",
        "    zeros = 0\n",
        "print(\"Ensemble Accuracy: {:.3f}\".format(accuracy_score(y_true = y_test,  y_pred = pred))) #controllo accuracy del modello su test set\n",
        "print(\"Random Forest Accuracy: {:.3f}\".format(accuracy_score(y_true = y_test, y_pred = rf.predict(X_test)))) #accuracy della random forest originale senza alberi per missclassification"
      ],
      "metadata": {
        "colab": {
          "base_uri": "https://localhost:8080/"
        },
        "id": "_vGhAf40aXjM",
        "outputId": "8183e568-a076-4d07-ba96-92e9e1276dbf"
      },
      "execution_count": 16,
      "outputs": [
        {
          "output_type": "stream",
          "name": "stdout",
          "text": [
            "Ensemble Accuracy: 0.936\n",
            "Random Forest Accuracy: 0.957\n"
          ]
        }
      ]
    },
    {
      "cell_type": "markdown",
      "source": [],
      "metadata": {
        "id": "IUIc1q5e998O"
      }
    },
    {
      "cell_type": "markdown",
      "source": [
        "Test da effettuare su:\n",
        "* dimensione del trigger set rispetto a training set\n",
        "* numero di uno rispetto a numero di zero all'interno del watermark\n",
        "* dimensione foresta"
      ],
      "metadata": {
        "id": "8am4313nUDtM"
      }
    }
  ]
}